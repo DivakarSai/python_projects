{
  "cells": [
    {
      "cell_type": "markdown",
      "metadata": {
        "id": "0e-JFLANjUDo"
      },
      "source": [
        "Importing Libraries"
      ]
    },
    {
      "cell_type": "code",
      "execution_count": 1,
      "metadata": {
        "id": "eMrm7gPpoVCv"
      },
      "outputs": [],
      "source": [
        "import numpy as np\n",
        "from sklearn.linear_model import SGDClassifier\n",
        "from sklearn.neighbors import KNeighborsClassifier\n",
        "from sklearn.linear_model import LogisticRegression\n",
        "from sklearn.tree import DecisionTreeClassifier\n",
        "from sklearn.cluster import KMeans\n",
        "from sklearn.ensemble import RandomForestClassifier\n",
        "from sklearn.svm import SVC\n",
        "from sklearn.naive_bayes import GaussianNB\n",
        "from xgboost import XGBClassifier\n",
        "from sklearn.ensemble import GradientBoostingClassifier\n",
        "from sklearn.metrics import accuracy_score\n",
        "from sklearn.preprocessing import OneHotEncoder\n",
        "smx=SGDClassifier()\n",
        "lr=LogisticRegression(random_state = 0)\n",
        "knn = KNeighborsClassifier(n_neighbors=5, metric='euclidean')\n",
        "dt= DecisionTreeClassifier(criterion = \"gini\", random_state = 100,\n",
        "                               max_depth=2, min_samples_leaf=5)\n",
        "km=KMeans(n_clusters=2)\n",
        "rf = RandomForestClassifier(n_estimators=100, criterion = 'entropy', random_state = 0)\n",
        "sv=SVC(kernel='poly')\n",
        "xgb=XGBClassifier()\n",
        "gb=GradientBoostingClassifier()\n",
        "gnb=GaussianNB()"
      ]
    },
    {
      "cell_type": "markdown",
      "metadata": {
        "id": "Mo6Icaivjnbs"
      },
      "source": [
        "Loading the dataset"
      ]
    },
    {
      "cell_type": "code",
      "execution_count": 46,
      "metadata": {
        "colab": {
          "base_uri": "https://localhost:8080/"
        },
        "id": "cbqjlM1ix9M5",
        "outputId": "44bbe127-1e8b-4c6d-acc7-dc5bb5b43a22"
      },
      "outputs": [],
      "source": [
        "import pytreebank\n",
        "sst = pytreebank.load_sst()"
      ]
    },
    {
      "cell_type": "markdown",
      "metadata": {},
      "source": [
        "data exploration"
      ]
    },
    {
      "cell_type": "code",
      "execution_count": 81,
      "metadata": {},
      "outputs": [
        {
          "name": "stdout",
          "output_type": "stream",
          "text": [
            "(3 (2 (2 The) (2 Rock) )(4 (3 (2 is) (4 (2 destined) (2 (2 (2 (2 (2 to) (2 (2 be) (2 (2 the) (2 (2 21st) (2 (2 (2 Century) (2 's) )(2 (3 new) (2 (2 ``) (2 Conan) )))))))(2 '') )(2 and) )(3 (2 that) (3 (2 he) (3 (2 's) (3 (2 going) (3 (2 to) (4 (3 (2 make) (3 (3 (2 a) (3 splash) )(2 (2 even) (3 greater) )))(2 (2 than) (2 (2 (2 (2 (1 (2 Arnold) (2 Schwarzenegger) )(2 ,) )(2 (2 Jean-Claud) (2 (2 Van) (2 Damme) )))(2 or) )(2 (2 Steven) (2 Segal) ))))))))))))(2 .) ))\n",
            "(3, \"The Rock is destined to be the 21st Century 's new `` Conan '' and that he 's going to make a splash even greater than Arnold Schwarzenegger , Jean-Claud Van Damme or Steven Segal .\")\n",
            "(2, 'The Rock')\n",
            "(2, 'The')\n",
            "(2, 'Rock')\n",
            "(4, \"is destined to be the 21st Century 's new `` Conan '' and that he 's going to make a splash even greater than Arnold Schwarzenegger , Jean-Claud Van Damme or Steven Segal .\")\n",
            "(3, \"is destined to be the 21st Century 's new `` Conan '' and that he 's going to make a splash even greater than Arnold Schwarzenegger , Jean-Claud Van Damme or Steven Segal\")\n",
            "(2, 'is')\n",
            "(4, \"destined to be the 21st Century 's new `` Conan '' and that he 's going to make a splash even greater than Arnold Schwarzenegger , Jean-Claud Van Damme or Steven Segal\")\n",
            "(2, 'destined')\n",
            "(2, \"to be the 21st Century 's new `` Conan '' and that he 's going to make a splash even greater than Arnold Schwarzenegger , Jean-Claud Van Damme or Steven Segal\")\n",
            "(2, \"to be the 21st Century 's new `` Conan '' and\")\n",
            "(2, \"to be the 21st Century 's new `` Conan ''\")\n",
            "(2, \"to be the 21st Century 's new `` Conan\")\n",
            "(2, 'to')\n",
            "(2, \"be the 21st Century 's new `` Conan\")\n",
            "(2, 'be')\n",
            "(2, \"the 21st Century 's new `` Conan\")\n",
            "(2, 'the')\n",
            "(2, \"21st Century 's new `` Conan\")\n",
            "(2, '21st')\n",
            "(2, \"Century 's new `` Conan\")\n",
            "(2, \"Century 's\")\n",
            "(2, 'Century')\n",
            "(2, \"'s\")\n",
            "(2, 'new `` Conan')\n",
            "(3, 'new')\n",
            "(2, '`` Conan')\n",
            "(2, '``')\n",
            "(2, 'Conan')\n",
            "(2, \"''\")\n",
            "(2, 'and')\n",
            "(3, \"that he 's going to make a splash even greater than Arnold Schwarzenegger , Jean-Claud Van Damme or Steven Segal\")\n",
            "(2, 'that')\n",
            "(3, \"he 's going to make a splash even greater than Arnold Schwarzenegger , Jean-Claud Van Damme or Steven Segal\")\n",
            "(2, 'he')\n",
            "(3, \"'s going to make a splash even greater than Arnold Schwarzenegger , Jean-Claud Van Damme or Steven Segal\")\n",
            "(2, \"'s\")\n",
            "(3, 'going to make a splash even greater than Arnold Schwarzenegger , Jean-Claud Van Damme or Steven Segal')\n",
            "(2, 'going')\n",
            "(3, 'to make a splash even greater than Arnold Schwarzenegger , Jean-Claud Van Damme or Steven Segal')\n",
            "(2, 'to')\n",
            "(4, 'make a splash even greater than Arnold Schwarzenegger , Jean-Claud Van Damme or Steven Segal')\n",
            "(3, 'make a splash even greater')\n",
            "(2, 'make')\n",
            "(3, 'a splash even greater')\n",
            "(3, 'a splash')\n",
            "(2, 'a')\n",
            "(3, 'splash')\n",
            "(2, 'even greater')\n",
            "(2, 'even')\n",
            "(3, 'greater')\n",
            "(2, 'than Arnold Schwarzenegger , Jean-Claud Van Damme or Steven Segal')\n",
            "(2, 'than')\n",
            "(2, 'Arnold Schwarzenegger , Jean-Claud Van Damme or Steven Segal')\n",
            "(2, 'Arnold Schwarzenegger , Jean-Claud Van Damme or')\n",
            "(2, 'Arnold Schwarzenegger , Jean-Claud Van Damme')\n",
            "(2, 'Arnold Schwarzenegger ,')\n",
            "(1, 'Arnold Schwarzenegger')\n",
            "(2, 'Arnold')\n",
            "(2, 'Schwarzenegger')\n",
            "(2, ',')\n",
            "(2, 'Jean-Claud Van Damme')\n",
            "(2, 'Jean-Claud')\n",
            "(2, 'Van Damme')\n",
            "(2, 'Van')\n",
            "(2, 'Damme')\n",
            "(2, 'or')\n",
            "(2, 'Steven Segal')\n",
            "(2, 'Steven')\n",
            "(2, 'Segal')\n",
            "(2, '.')\n",
            "[(3, \"The Rock is destined to be the 21st Century 's new `` Conan '' and that he 's going to make a splash even greater than Arnold Schwarzenegger , Jean-Claud Van Damme or Steven Segal .\"), (2, 'The Rock'), (2, 'The'), (2, 'Rock'), (4, \"is destined to be the 21st Century 's new `` Conan '' and that he 's going to make a splash even greater than Arnold Schwarzenegger , Jean-Claud Van Damme or Steven Segal .\"), (3, \"is destined to be the 21st Century 's new `` Conan '' and that he 's going to make a splash even greater than Arnold Schwarzenegger , Jean-Claud Van Damme or Steven Segal\"), (2, 'is'), (4, \"destined to be the 21st Century 's new `` Conan '' and that he 's going to make a splash even greater than Arnold Schwarzenegger , Jean-Claud Van Damme or Steven Segal\"), (2, 'destined'), (2, \"to be the 21st Century 's new `` Conan '' and that he 's going to make a splash even greater than Arnold Schwarzenegger , Jean-Claud Van Damme or Steven Segal\"), (2, \"to be the 21st Century 's new `` Conan '' and\"), (2, \"to be the 21st Century 's new `` Conan ''\"), (2, \"to be the 21st Century 's new `` Conan\"), (2, 'to'), (2, \"be the 21st Century 's new `` Conan\"), (2, 'be'), (2, \"the 21st Century 's new `` Conan\"), (2, 'the'), (2, \"21st Century 's new `` Conan\"), (2, '21st'), (2, \"Century 's new `` Conan\"), (2, \"Century 's\"), (2, 'Century'), (2, \"'s\"), (2, 'new `` Conan'), (3, 'new'), (2, '`` Conan'), (2, '``'), (2, 'Conan'), (2, \"''\"), (2, 'and'), (3, \"that he 's going to make a splash even greater than Arnold Schwarzenegger , Jean-Claud Van Damme or Steven Segal\"), (2, 'that'), (3, \"he 's going to make a splash even greater than Arnold Schwarzenegger , Jean-Claud Van Damme or Steven Segal\"), (2, 'he'), (3, \"'s going to make a splash even greater than Arnold Schwarzenegger , Jean-Claud Van Damme or Steven Segal\"), (2, \"'s\"), (3, 'going to make a splash even greater than Arnold Schwarzenegger , Jean-Claud Van Damme or Steven Segal'), (2, 'going'), (3, 'to make a splash even greater than Arnold Schwarzenegger , Jean-Claud Van Damme or Steven Segal'), (2, 'to'), (4, 'make a splash even greater than Arnold Schwarzenegger , Jean-Claud Van Damme or Steven Segal'), (3, 'make a splash even greater'), (2, 'make'), (3, 'a splash even greater'), (3, 'a splash'), (2, 'a'), (3, 'splash'), (2, 'even greater'), (2, 'even'), (3, 'greater'), (2, 'than Arnold Schwarzenegger , Jean-Claud Van Damme or Steven Segal'), (2, 'than'), (2, 'Arnold Schwarzenegger , Jean-Claud Van Damme or Steven Segal'), (2, 'Arnold Schwarzenegger , Jean-Claud Van Damme or'), (2, 'Arnold Schwarzenegger , Jean-Claud Van Damme'), (2, 'Arnold Schwarzenegger ,'), (1, 'Arnold Schwarzenegger'), (2, 'Arnold'), (2, 'Schwarzenegger'), (2, ','), (2, 'Jean-Claud Van Damme'), (2, 'Jean-Claud'), (2, 'Van Damme'), (2, 'Van'), (2, 'Damme'), (2, 'or'), (2, 'Steven Segal'), (2, 'Steven'), (2, 'Segal'), (2, '.')]\n",
            "The Rock is destined to be the 21st Century 's new `` Conan '' and that he 's going to make a splash even greater than Arnold Schwarzenegger , Jean-Claud Van Damme or Steven Segal .\n",
            "3\n",
            "8544\n",
            "[1092, 2218, 1624, 2322, 1288]\n",
            "102.31039325842697\n",
            "19.143960674157302\n"
          ]
        }
      ],
      "source": [
        "rating_count = [0,0,0,0,0]\n",
        "total_count = 0\n",
        "char_len = []\n",
        "word_len = []\n",
        "for tree in sst['train']:\n",
        "    total_count += 1\n",
        "    rating_count[tree.label] += 1\n",
        "    char_len.append(len(tree.to_lines()[0]))\n",
        "    word_len.append(len(tree.to_lines()[0].split()))\n",
        "    if (sst['train'].index(tree) == 0):\n",
        "        print(tree)\n",
        "        for node in tree.to_labeled_lines():\n",
        "            print(node)\n",
        "        print(tree.to_labeled_lines())\n",
        "        print(tree.to_lines()[0]) \n",
        "        print(tree.label)\n",
        "print(total_count)\n",
        "print(rating_count)\n",
        "print(np.mean(char_len))\n",
        "print(np.mean(word_len))"
      ]
    },
    {
      "cell_type": "code",
      "execution_count": 49,
      "metadata": {
        "colab": {
          "base_uri": "https://localhost:8080/",
          "height": 666
        },
        "id": "Lj_ynly1VakE",
        "outputId": "28e3f39a-efd8-4f0d-e96d-cbaa01cf5824"
      },
      "outputs": [
        {
          "name": "stdout",
          "output_type": "stream",
          "text": [
            "                                               sentence\n",
            "0     The Rock is destined to be the 21st Century 's...\n",
            "1     The gorgeously elaborate continuation of `` Th...\n",
            "2     Singer/composer Bryan Adams contributes a slew...\n",
            "3     You 'd think by now America would have had eno...\n",
            "4                  Yet the act is still charming here .\n",
            "...                                                 ...\n",
            "8539                                    A real snooze .\n",
            "8540                                     No surprises .\n",
            "8541  We 've seen the hippie-turned-yuppie plot befo...\n",
            "8542  Her fans walked out muttering words like `` ho...\n",
            "8543                                In this case zero .\n",
            "\n",
            "[8544 rows x 1 columns]\n"
          ]
        },
        {
          "data": {
            "text/html": [
              "<div>\n",
              "<style scoped>\n",
              "    .dataframe tbody tr th:only-of-type {\n",
              "        vertical-align: middle;\n",
              "    }\n",
              "\n",
              "    .dataframe tbody tr th {\n",
              "        vertical-align: top;\n",
              "    }\n",
              "\n",
              "    .dataframe thead th {\n",
              "        text-align: right;\n",
              "    }\n",
              "</style>\n",
              "<table border=\"1\" class=\"dataframe\">\n",
              "  <thead>\n",
              "    <tr style=\"text-align: right;\">\n",
              "      <th></th>\n",
              "      <th>sentence</th>\n",
              "    </tr>\n",
              "  </thead>\n",
              "  <tbody>\n",
              "    <tr>\n",
              "      <th>0</th>\n",
              "      <td>Effective but too-tepid biopic</td>\n",
              "    </tr>\n",
              "    <tr>\n",
              "      <th>1</th>\n",
              "      <td>If you sometimes like to go to the movies to h...</td>\n",
              "    </tr>\n",
              "    <tr>\n",
              "      <th>2</th>\n",
              "      <td>Emerges as something rare , an issue movie tha...</td>\n",
              "    </tr>\n",
              "    <tr>\n",
              "      <th>3</th>\n",
              "      <td>The film provides some great insight into the ...</td>\n",
              "    </tr>\n",
              "    <tr>\n",
              "      <th>4</th>\n",
              "      <td>Offers that rare combination of entertainment ...</td>\n",
              "    </tr>\n",
              "    <tr>\n",
              "      <th>...</th>\n",
              "      <td>...</td>\n",
              "    </tr>\n",
              "    <tr>\n",
              "      <th>2205</th>\n",
              "      <td>An imaginative comedy/thriller .</td>\n",
              "    </tr>\n",
              "    <tr>\n",
              "      <th>2206</th>\n",
              "      <td>( A ) rare , beautiful film .</td>\n",
              "    </tr>\n",
              "    <tr>\n",
              "      <th>2207</th>\n",
              "      <td>( An ) hilarious romantic comedy .</td>\n",
              "    </tr>\n",
              "    <tr>\n",
              "      <th>2208</th>\n",
              "      <td>Never ( sinks ) into exploitation .</td>\n",
              "    </tr>\n",
              "    <tr>\n",
              "      <th>2209</th>\n",
              "      <td>( U ) nrelentingly stupid .</td>\n",
              "    </tr>\n",
              "  </tbody>\n",
              "</table>\n",
              "<p>2210 rows × 1 columns</p>\n",
              "</div>"
            ],
            "text/plain": [
              "                                               sentence\n",
              "0                        Effective but too-tepid biopic\n",
              "1     If you sometimes like to go to the movies to h...\n",
              "2     Emerges as something rare , an issue movie tha...\n",
              "3     The film provides some great insight into the ...\n",
              "4     Offers that rare combination of entertainment ...\n",
              "...                                                 ...\n",
              "2205                   An imaginative comedy/thriller .\n",
              "2206                      ( A ) rare , beautiful film .\n",
              "2207                 ( An ) hilarious romantic comedy .\n",
              "2208                Never ( sinks ) into exploitation .\n",
              "2209                        ( U ) nrelentingly stupid .\n",
              "\n",
              "[2210 rows x 1 columns]"
            ]
          },
          "execution_count": 49,
          "metadata": {},
          "output_type": "execute_result"
        }
      ],
      "source": [
        "import pandas as pd\n",
        "data_train = [\n",
        "                (\n",
        "                    tree.to_lines()[0],\n",
        "                    tree.label\n",
        "                )\n",
        "                for tree in sst['train']\n",
        "            ]\n",
        "data_test = [(\n",
        "  tree.to_lines()[0],\n",
        "  tree.label\n",
        ")\n",
        "for tree in sst['test']\n",
        "]\n",
        "x_train=pd.DataFrame(data_train,columns=['sentence','label'])\n",
        "x_test=pd.DataFrame(data_test,columns=['sentence','label'])\n",
        "x_train_sent=x_train[['sentence']]\n",
        "print(x_train_sent)\n",
        "y_train_ind=x_train['label']\n",
        "y_train_ind\n",
        "x_test_sent=x_test[['sentence']]\n",
        "y_test_ind=x_test['label']\n",
        "x_test_sent\n"
      ]
    },
    {
      "cell_type": "code",
      "execution_count": 36,
      "metadata": {},
      "outputs": [
        {
          "data": {
            "text/plain": [
              "<bound method IndexOpsMixin.value_counts of 0       3\n",
              "1       4\n",
              "2       3\n",
              "3       2\n",
              "4       3\n",
              "       ..\n",
              "8539    0\n",
              "8540    1\n",
              "8541    3\n",
              "8542    0\n",
              "8543    1\n",
              "Name: label, Length: 8544, dtype: int64>"
            ]
          },
          "execution_count": 36,
          "metadata": {},
          "output_type": "execute_result"
        }
      ],
      "source": [
        "x_train.label"
      ]
    },
    {
      "cell_type": "markdown",
      "metadata": {
        "id": "bVJUW_aij3vn"
      },
      "source": [
        "Pre-Processing"
      ]
    },
    {
      "cell_type": "code",
      "execution_count": 4,
      "metadata": {
        "colab": {
          "base_uri": "https://localhost:8080/"
        },
        "id": "vGrATjN7kr7R",
        "outputId": "431c6696-cec1-4054-f2c1-103290123029"
      },
      "outputs": [
        {
          "name": "stdout",
          "output_type": "stream",
          "text": [
            "393024\n"
          ]
        }
      ],
      "source": [
        "\n",
        "\n",
        "from keras.preprocessing.text import Tokenizer\n",
        "from keras.preprocessing.sequence import pad_sequences\n",
        "tokenizer = Tokenizer(num_words=2500, lower=True,split=' ')\n",
        "tokenizer.fit_on_texts(x_train_sent['sentence'])\n",
        "tokenizer.fit_on_texts(x_test_sent['sentence'])\n",
        "# print(len(tokenizer.word_index))\n",
        "X = tokenizer.texts_to_sequences(list(x_train_sent['sentence']))\n",
        "x=tokenizer.texts_to_sequences(list(x_test_sent['sentence']))\n",
        "x=pad_sequences(x)\n",
        "X = pad_sequences(X)\n",
        "print(X.size)"
      ]
    },
    {
      "cell_type": "markdown",
      "metadata": {
        "id": "2MT6lugWkUmx"
      },
      "source": [
        "BERT embeddings"
      ]
    },
    {
      "cell_type": "code",
      "execution_count": 5,
      "metadata": {
        "colab": {
          "base_uri": "https://localhost:8080/"
        },
        "id": "dz8htZUtYAnK",
        "outputId": "638666c0-afb9-4197-a4b6-66cbb522daab"
      },
      "outputs": [
        {
          "name": "stderr",
          "output_type": "stream",
          "text": [
            "/Library/Frameworks/Python.framework/Versions/3.11/lib/python3.11/site-packages/tqdm/auto.py:21: TqdmWarning: IProgress not found. Please update jupyter and ipywidgets. See https://ipywidgets.readthedocs.io/en/stable/user_install.html\n",
            "  from .autonotebook import tqdm as notebook_tqdm\n"
          ]
        }
      ],
      "source": [
        "\n",
        "\n",
        "from sentence_transformers import SentenceTransformer"
      ]
    },
    {
      "cell_type": "code",
      "execution_count": 6,
      "metadata": {
        "id": "p-2J3XoEWF92"
      },
      "outputs": [],
      "source": [
        "model = SentenceTransformer('bert-base-nli-mean-tokens')\n",
        "#sentences = ['This framework generates embeddings for each input sentence',  'Sentences are passed as a list of string.', 'The quick brown fox jumps over the lazy dog.']\n",
        "sentence_embeddings = model.encode(x_train_sent['sentence'])\n",
        "sentence_embeddings_test=model.encode(x_test_sent['sentence'])"
      ]
    },
    {
      "cell_type": "code",
      "execution_count": 9,
      "metadata": {
        "id": "-t7Aat3sPiWG"
      },
      "outputs": [],
      "source": [
        "def convert(n):\n",
        "  if(n>2):\n",
        "    n=1\n",
        "  else:\n",
        "    n=0\n",
        "  return n"
      ]
    },
    {
      "cell_type": "code",
      "execution_count": 10,
      "metadata": {
        "colab": {
          "base_uri": "https://localhost:8080/"
        },
        "id": "kZM7VGEhx4zJ",
        "outputId": "e6b816f6-ca56-4b20-99bd-cb94c20e5f17"
      },
      "outputs": [
        {
          "data": {
            "text/plain": [
              "(8544,)"
            ]
          },
          "execution_count": 10,
          "metadata": {},
          "output_type": "execute_result"
        }
      ],
      "source": [
        "y_train_ind=np.array(y_train_ind)\n",
        "y_test_ind=np.array(y_test_ind)\n",
        "y_sst2_t=[]\n",
        "y_sst2_tes=[]\n",
        "for i in y_test_ind:\n",
        "  y_sst2_tes.append(convert(i))\n",
        "for i in y_train_ind:\n",
        "  y_sst2_t.append(convert(i))\n",
        "y_sst2_t=np.array(y_sst2_t)\n",
        "y_sst2_tes=np.array(y_sst2_tes)\n",
        "y_sst2_t\n",
        "y_sst2_t.shape"
      ]
    },
    {
      "cell_type": "markdown",
      "metadata": {
        "id": "HyLxQKnWkiaq"
      },
      "source": [
        "Neural Network"
      ]
    },
    {
      "cell_type": "code",
      "execution_count": 11,
      "metadata": {
        "id": "mhM1oF2ppvrL"
      },
      "outputs": [
        {
          "name": "stderr",
          "output_type": "stream",
          "text": [
            "WARNING:absl:At this time, the v2.11+ optimizer `tf.keras.optimizers.Adam` runs slowly on M1/M2 Macs, please use the legacy Keras optimizer instead, located at `tf.keras.optimizers.legacy.Adam`.\n",
            "WARNING:absl:There is a known slowdown when using v2.11+ Keras optimizers on M1/M2 Macs. Falling back to the legacy Keras optimizer, i.e., `tf.keras.optimizers.legacy.Adam`.\n"
          ]
        }
      ],
      "source": [
        "\n",
        "from keras.models import Sequential\n",
        "from keras.layers import Dense\n",
        "from keras.optimizers import Adam\n",
        "# sc = StandardScaler()\n",
        "# X = sc.fit_transform(X)\n",
        "ohe = OneHotEncoder()\n",
        "y_test_ind = ohe.fit_transform(y_sst2_tes.reshape(-1,1)).toarray()\n",
        "y_train_ind = ohe.fit_transform(y_sst2_t.reshape(-1,1)).toarray()\n",
        "# X_train,X_test,y_train,y_test = train_test_split(X,y,test_size = 0.1)\n",
        "model = Sequential()\n",
        "model.add(Dense(128, input_dim=(768), activation='relu'))\n",
        "# model.add(Dense(32, activation='relu'))\n",
        "model.add(Dense(16, activation='relu'))\n",
        "model.add(Dense(2, activation='softmax'))\n",
        "model.compile(loss='categorical_crossentropy', optimizer=Adam(learning_rate=0.0001), metrics=['accuracy'])"
      ]
    },
    {
      "cell_type": "code",
      "execution_count": 12,
      "metadata": {
        "colab": {
          "base_uri": "https://localhost:8080/"
        },
        "id": "b4Ar9xg12BER",
        "outputId": "fbfd5e2b-d406-4372-c0aa-e7613e6288fe"
      },
      "outputs": [
        {
          "data": {
            "text/plain": [
              "(2210, 768)"
            ]
          },
          "execution_count": 12,
          "metadata": {},
          "output_type": "execute_result"
        }
      ],
      "source": [
        "np.array(sentence_embeddings_test).shape"
      ]
    },
    {
      "cell_type": "code",
      "execution_count": 13,
      "metadata": {
        "colab": {
          "base_uri": "https://localhost:8080/"
        },
        "id": "J0OL4MM7vAn1",
        "outputId": "70b26214-3dfb-4027-b010-454b07c0a403"
      },
      "outputs": [
        {
          "name": "stdout",
          "output_type": "stream",
          "text": [
            "Epoch 1/10\n",
            "267/267 [==============================] - 0s 776us/step - loss: 0.4379 - accuracy: 0.7967\n",
            "Epoch 2/10\n",
            "267/267 [==============================] - 0s 730us/step - loss: 0.3845 - accuracy: 0.8315\n",
            "Epoch 3/10\n",
            "267/267 [==============================] - 0s 687us/step - loss: 0.3633 - accuracy: 0.8378\n",
            "Epoch 4/10\n",
            "267/267 [==============================] - 0s 682us/step - loss: 0.3482 - accuracy: 0.8464\n",
            "Epoch 5/10\n",
            "267/267 [==============================] - 0s 683us/step - loss: 0.3406 - accuracy: 0.8521\n",
            "Epoch 6/10\n",
            "267/267 [==============================] - 0s 702us/step - loss: 0.3280 - accuracy: 0.8555\n",
            "Epoch 7/10\n",
            "267/267 [==============================] - 0s 705us/step - loss: 0.3165 - accuracy: 0.8635\n",
            "Epoch 8/10\n",
            "267/267 [==============================] - 0s 702us/step - loss: 0.3066 - accuracy: 0.8679\n",
            "Epoch 9/10\n",
            "267/267 [==============================] - 0s 697us/step - loss: 0.2974 - accuracy: 0.8750\n",
            "Epoch 10/10\n",
            "267/267 [==============================] - 0s 706us/step - loss: 0.2882 - accuracy: 0.8819\n",
            "70/70 [==============================] - 0s 385us/step\n",
            "Accuracy is: 85.06787330316742\n"
          ]
        }
      ],
      "source": [
        "history = model.fit(np.array(sentence_embeddings), y_train_ind, epochs=10, batch_size=32)\n",
        "y_pred = model.predict(np.array(sentence_embeddings_test))\n",
        "y_pred=np.array(y_pred)\n",
        "pred = list()\n",
        "for i in range(len(y_pred)):\n",
        "    pred.append(np.argmax(y_pred[i]))\n",
        "test = list()\n",
        "for i in range(len(y_test_ind)):\n",
        "    test.append(np.argmax(y_test_ind[i]))\n",
        "a = accuracy_score(pred,test)\n",
        "print('Accuracy is:', a*100)"
      ]
    },
    {
      "cell_type": "markdown",
      "metadata": {
        "id": "axOxu9wDYfSH"
      },
      "source": [
        "ML CLASSIFIERS"
      ]
    },
    {
      "cell_type": "code",
      "execution_count": 14,
      "metadata": {
        "colab": {
          "base_uri": "https://localhost:8080/"
        },
        "id": "hdVrJUZ_YeXB",
        "outputId": "3527d3a9-3e98-4c9c-f816-fb688ce69f9f"
      },
      "outputs": [
        {
          "data": {
            "text/plain": [
              "0.8266968325791855"
            ]
          },
          "execution_count": 14,
          "metadata": {},
          "output_type": "execute_result"
        }
      ],
      "source": [
        "#lr.fit(np.array(sentence_embeddings),np.array(y_train_ind))\n",
        "#lr.fit(np.array(sentence_embeddings),y_sst2_t)\n",
        "#y_pred=lr.predict(np.array(sentence_embeddings_test))\n",
        "#y_pred=lr.predict(np.array(sentence_embeddings_test))\n",
        "#accuracy_score(np.array(y_test_ind),np.array(y_pred))\n",
        "#accuracy_score(y_sst2_tes,np.array(y_pred))\n",
        "\n",
        "#xgb.fit(np.array(sentence_embeddings),y_sst2_t)\n",
        "#y_pred=xgb.predict(np.array(sentence_embeddings_test))\n",
        "#accuracy_score(y_sst2_tes,np.array(y_pred))\n",
        "\n",
        "#gb.fit(np.array(sentence_embeddings),y_sst2_t)\n",
        "#y_pred=gb.predict(np.array(sentence_embeddings_test))\n",
        "#accuracy_score(y_sst2_tes,np.array(y_pred))\n",
        "\n",
        "#knn.fit(np.array(sentence_embeddings),np.array(y_train_ind))\n",
        "\n",
        "rf.fit(np.array(sentence_embeddings),np.array(y_sst2_t))\n",
        "y_pred=rf.predict(np.array(sentence_embeddings_test))\n",
        "accuracy_score(y_sst2_tes,y_pred)\n",
        "\n"
      ]
    }
  ],
  "metadata": {
    "accelerator": "TPU",
    "colab": {
      "name": "Sentiment Analysis - SST",
      "provenance": []
    },
    "kernelspec": {
      "display_name": "Python 3",
      "name": "python3"
    },
    "language_info": {
      "codemirror_mode": {
        "name": "ipython",
        "version": 3
      },
      "file_extension": ".py",
      "mimetype": "text/x-python",
      "name": "python",
      "nbconvert_exporter": "python",
      "pygments_lexer": "ipython3",
      "version": "3.11.4"
    }
  },
  "nbformat": 4,
  "nbformat_minor": 0
}
